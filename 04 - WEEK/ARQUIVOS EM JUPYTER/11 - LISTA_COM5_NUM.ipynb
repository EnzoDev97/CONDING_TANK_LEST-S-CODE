{
 "cells": [
  {
   "cell_type": "code",
   "execution_count": 3,
   "metadata": {},
   "outputs": [
    {
     "name": "stdout",
     "output_type": "stream",
     "text": [
      "['7', '8', '9', '32', '4']\n",
      "----------------------------------------------------------------------------------------------------\n",
      "[7.0, 8.0, 9.0, 32.0, 4.0]\n"
     ]
    }
   ],
   "source": [
    "#11 - Faça um programa que pede para o usuário digitar 5 números e, ao final, imprime uma lista com os 5 números digitados pelo usuário (sem converter para int ou float)\n",
    "lista = []\n",
    "\n",
    "for i in range(5):\n",
    "    lista.append(input('Digite um número: '))\n",
    "\n",
    "print(lista)\n",
    "print('-'*100)\n",
    "# CONVERTENDO PARA FLOAT\n",
    "\n",
    "for i in range(len(lista)):\n",
    "    lista[i] = float(lista[i])\n",
    "    \n",
    "print(lista)\n"
   ]
  }
 ],
 "metadata": {
  "kernelspec": {
   "display_name": "Python 3.9.12 ('base')",
   "language": "python",
   "name": "python3"
  },
  "language_info": {
   "codemirror_mode": {
    "name": "ipython",
    "version": 3
   },
   "file_extension": ".py",
   "mimetype": "text/x-python",
   "name": "python",
   "nbconvert_exporter": "python",
   "pygments_lexer": "ipython3",
   "version": "3.9.12"
  },
  "orig_nbformat": 4,
  "vscode": {
   "interpreter": {
    "hash": "e8755eff31258cf3f68aa399e6f759d79082959dfad6f58a9830d0e0b06355a5"
   }
  }
 },
 "nbformat": 4,
 "nbformat_minor": 2
}
