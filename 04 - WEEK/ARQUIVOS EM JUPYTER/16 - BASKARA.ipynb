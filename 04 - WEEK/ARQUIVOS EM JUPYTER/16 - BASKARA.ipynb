{
 "cells": [
  {
   "cell_type": "code",
   "execution_count": 15,
   "metadata": {},
   "outputs": [
    {
     "name": "stdout",
     "output_type": "stream",
     "text": [
      "Há duas raizes, X1 = 1.94 e X2 = 0.06\n"
     ]
    }
   ],
   "source": [
    "# 16 - Faça um programa que peça os 3 coeficientes (inteiros) de uma equação do segundo grau e imprima as duas soluções.\n",
    "#Obs: Só pode aparecer número inteiro na resposta final\n",
    "\n",
    "a = int(input('Digite o coeficiente A '))\n",
    "b = int(input('Digite o coeficiente B '))\n",
    "c = int(input('Digite o coeficiente C '))\n",
    "\n",
    "delta = b**2 - (4*a*c)\n",
    "x1 = (-b +delta ** 0.5) / (2 * a)\n",
    "x2 = (-b -delta ** 0.5) / (2 * a)\n",
    "\n",
    "# if delta ** 0.5 - int(delta**0.5) != 0 --> radicando = delta? Quem vai ser meu x1\n",
    "\n",
    "\n",
    "if delta > 0:\n",
    "    print('Há duas raizes, X1 = {:.2f} e X2 = {:.2f}'.format(x1,x2))\n",
    "elif delta == 0:\n",
    "    print('As duas raizes são iguais, sendo o valor = {:.2f}'.format(x1))\n",
    "else: \n",
    "    print('Não existem raizes')"
   ]
  }
 ],
 "metadata": {
  "kernelspec": {
   "display_name": "Python 3.9.12 ('base')",
   "language": "python",
   "name": "python3"
  },
  "language_info": {
   "codemirror_mode": {
    "name": "ipython",
    "version": 3
   },
   "file_extension": ".py",
   "mimetype": "text/x-python",
   "name": "python",
   "nbconvert_exporter": "python",
   "pygments_lexer": "ipython3",
   "version": "3.9.12"
  },
  "orig_nbformat": 4,
  "vscode": {
   "interpreter": {
    "hash": "e8755eff31258cf3f68aa399e6f759d79082959dfad6f58a9830d0e0b06355a5"
   }
  }
 },
 "nbformat": 4,
 "nbformat_minor": 2
}
