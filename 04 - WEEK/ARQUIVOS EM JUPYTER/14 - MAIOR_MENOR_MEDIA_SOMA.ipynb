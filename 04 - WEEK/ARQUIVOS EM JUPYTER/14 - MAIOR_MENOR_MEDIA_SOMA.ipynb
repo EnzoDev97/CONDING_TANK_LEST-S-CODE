{
 "cells": [
  {
   "cell_type": "code",
   "execution_count": 1,
   "metadata": {},
   "outputs": [
    {
     "name": "stdout",
     "output_type": "stream",
     "text": [
      "O maior número sorteado foi: 100\n",
      "O menor número sorteado foi: 21\n",
      "A media dos números sorteados foi: 55.1\n",
      "A soma dos números sorteados foi: 551\n",
      "Lista final foi: [42, 50, 48, 21, 86, 54, 22, 40, 88, 100]\n"
     ]
    }
   ],
   "source": [
    "#14 - Faça um programa que sorteie 10 números entre 0 e 100 e imprima:\n",
    "\n",
    "# a. O maior número sorteado\n",
    "# b. o menor número sorteado\n",
    "# c. a média dos números sorteados\n",
    "# d. A soma dos números sorteados\n",
    "\n",
    "import random\n",
    "\n",
    "lista = []\n",
    "media = 0\n",
    "for i in range(10):\n",
    "    lista.append(random.randint(0,100))\n",
    "    media += lista[i]\n",
    "    \n",
    "print(f'O maior número sorteado foi: {max(lista)}')\n",
    "print(f'O menor número sorteado foi: {min(lista)}')\n",
    "print(f'A media dos números sorteados foi: {media/len(lista)}')\n",
    "print(f'A soma dos números sorteados foi: {media}')\n",
    "\n",
    "print(f'Lista final foi: {lista}')"
   ]
  }
 ],
 "metadata": {
  "kernelspec": {
   "display_name": "Python 3.9.12 ('base')",
   "language": "python",
   "name": "python3"
  },
  "language_info": {
   "name": "python",
   "version": "3.9.12"
  },
  "orig_nbformat": 4,
  "vscode": {
   "interpreter": {
    "hash": "e8755eff31258cf3f68aa399e6f759d79082959dfad6f58a9830d0e0b06355a5"
   }
  }
 },
 "nbformat": 4,
 "nbformat_minor": 2
}
