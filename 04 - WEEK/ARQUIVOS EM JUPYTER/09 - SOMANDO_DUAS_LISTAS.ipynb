{
 "cells": [
  {
   "cell_type": "code",
   "execution_count": 5,
   "metadata": {},
   "outputs": [
    {
     "name": "stdout",
     "output_type": "stream",
     "text": [
      "[4, 4, 4]\n"
     ]
    }
   ],
   "source": [
    "# 09  - Faça uma função que recebe duas listas e retorna a soma item a item dessas listas. Exemplo: \n",
    "# Se a função receber as listas [1,4,3] e [3,5,1], \n",
    "# então a função deve retornar [1+3, 4+5, 3+1] = [4, 9, 4].\n",
    "\n",
    "def somalista(lista_1, lista_2):\n",
    "    lista_3 =[]\n",
    "    for i in range(len(lista_1)):\n",
    "        lista_3.append(lista_1[i] + lista_2[i])\n",
    "    print(lista_3)\n",
    "\n",
    "\n",
    "somalista([2,2,2], [2,2,2])"
   ]
  }
 ],
 "metadata": {
  "kernelspec": {
   "display_name": "Python 3.9.12 ('base')",
   "language": "python",
   "name": "python3"
  },
  "language_info": {
   "codemirror_mode": {
    "name": "ipython",
    "version": 3
   },
   "file_extension": ".py",
   "mimetype": "text/x-python",
   "name": "python",
   "nbconvert_exporter": "python",
   "pygments_lexer": "ipython3",
   "version": "3.9.12"
  },
  "orig_nbformat": 4,
  "vscode": {
   "interpreter": {
    "hash": "84119b4a23c727451d2f5b202898a53a27583c1b582daf411d2362849740e029"
   }
  }
 },
 "nbformat": 4,
 "nbformat_minor": 2
}
