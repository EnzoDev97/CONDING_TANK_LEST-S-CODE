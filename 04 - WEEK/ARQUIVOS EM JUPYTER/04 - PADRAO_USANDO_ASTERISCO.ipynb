{
 "cells": [
  {
   "cell_type": "code",
   "execution_count": 5,
   "metadata": {},
   "outputs": [
    {
     "name": "stdout",
     "output_type": "stream",
     "text": [
      "*\n",
      "**\n",
      "***\n",
      "****\n",
      "*****\n"
     ]
    }
   ],
   "source": [
    "# 04 - Faça um script que reproduza o padrão usando \"\" a seguir de acordo com o número de linhas desejadas pelo usuário. Dica: print(5 '@')\n",
    "\n",
    "number = None \n",
    "\n",
    "while type(number) != int: \n",
    "    number = int(input('Digite um número inteiro: '))\n",
    "\n",
    "i = 0 \n",
    "while i < number: \n",
    "    print('*'*(i+1)) \n",
    "    i += 1"
   ]
  }
 ],
 "metadata": {
  "kernelspec": {
   "display_name": "Python 3.9.12 ('base')",
   "language": "python",
   "name": "python3"
  },
  "language_info": {
   "codemirror_mode": {
    "name": "ipython",
    "version": 3
   },
   "file_extension": ".py",
   "mimetype": "text/x-python",
   "name": "python",
   "nbconvert_exporter": "python",
   "pygments_lexer": "ipython3",
   "version": "3.9.12"
  },
  "orig_nbformat": 4,
  "vscode": {
   "interpreter": {
    "hash": "84119b4a23c727451d2f5b202898a53a27583c1b582daf411d2362849740e029"
   }
  }
 },
 "nbformat": 4,
 "nbformat_minor": 2
}
