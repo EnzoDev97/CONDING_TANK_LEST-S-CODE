{
 "cells": [
  {
   "cell_type": "code",
   "execution_count": 3,
   "metadata": {},
   "outputs": [
    {
     "name": "stdout",
     "output_type": "stream",
     "text": [
      "A média das notas do usuário é 8.03\n"
     ]
    }
   ],
   "source": [
    "#12 - Faça um programa que peça as 4 notas bimestrais e mostre a média aritimética delas, usando listas\n",
    "\n",
    "notas = []\n",
    "media = 0\n",
    "for i in range(4):\n",
    "    notas.append(float(input(f'Digite a Nota Bimestral {i+1}: ')))\n",
    "    media += notas[i]\n",
    "\n",
    "print('A média das notas do usuário é {:.2f}'.format(media/len(notas)))"
   ]
  }
 ],
 "metadata": {
  "kernelspec": {
   "display_name": "Python 3.9.12 ('base')",
   "language": "python",
   "name": "python3"
  },
  "language_info": {
   "codemirror_mode": {
    "name": "ipython",
    "version": 3
   },
   "file_extension": ".py",
   "mimetype": "text/x-python",
   "name": "python",
   "nbconvert_exporter": "python",
   "pygments_lexer": "ipython3",
   "version": "3.9.12"
  },
  "orig_nbformat": 4,
  "vscode": {
   "interpreter": {
    "hash": "e8755eff31258cf3f68aa399e6f759d79082959dfad6f58a9830d0e0b06355a5"
   }
  }
 },
 "nbformat": 4,
 "nbformat_minor": 2
}
