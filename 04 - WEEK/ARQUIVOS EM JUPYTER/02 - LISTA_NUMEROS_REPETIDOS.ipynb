{
 "cells": [
  {
   "cell_type": "code",
   "execution_count": 2,
   "metadata": {},
   "outputs": [
    {
     "name": "stdout",
     "output_type": "stream",
     "text": [
      "----------------------------------------------------------------------------------------------------\n",
      "\u001b[47m                                        SEQUÊNCIA DE NÚMEROS                                        \u001b[0m\n",
      "----------------------------------------------------------------------------------------------------\n",
      "\n",
      "\n",
      "\n",
      "\n",
      "----------------------------------------------------------------------------------------------------\n",
      "\u001b[44m                              LISTA DA SEQUÊNCIA DE NÚMEROS DIGITADOS                               \u001b[0m\n",
      "----------------------------------------------------------------------------------------------------\n",
      "\n",
      "\n",
      "[[1], [9], [7], [8], [4], [5], [6], [3], [2], [11]]\n",
      "____________________________________________________________________________________________________\n",
      "\n",
      "\n",
      "\n",
      "\n",
      "----------------------------------------------------------------------------------------------------\n",
      "\u001b[43m                         \u001b[43mLISTA DE NÚMEROS REPETIDOS DA LISTA PRINCIPAL                         \u001b[0m\n",
      "----------------------------------------------------------------------------------------------------\n",
      "\n",
      "\n",
      "[]\n",
      "____________________________________________________________________________________________________\n"
     ]
    }
   ],
   "source": [
    "# 02 - Dê um exemplo, e justifique, de um problema que você iria preferir usar o while, e um que você iria preferir usar o for.\n",
    "\n",
    "lista= []\n",
    "\n",
    "qtd_numero= 10\n",
    "\n",
    "print('-'*100) \n",
    "print ('\\033[47m{:^100}\\033[0m'.format('SEQUÊNCIA DE NÚMEROS')) \n",
    "print('-'*100) \n",
    "print('\\n')\n",
    "\n",
    "for x in range(qtd_numero): \n",
    "    numero = int(input(' ')) \n",
    "    number = [numero] \n",
    "    lista.append(number) \n",
    "print('\\n') \n",
    "print('-'*100)\n",
    "\n",
    "print ('\\033[44m{:^100}\\033[0m'.format('LISTA DA SEQUÊNCIA DE NÚMEROS DIGITADOS')) \n",
    "print('-'*100) \n",
    "print('\\n')\n",
    "\n",
    "print(lista) \n",
    "print('_'*100) \n",
    "print('\\n')\n",
    "\n",
    "repetidos = []\n",
    "\n",
    "for a in range(len(lista)): \n",
    "    for b in range(len(lista)): \n",
    "        if a != b: \n",
    "            if lista[a] == lista[b] and lista[a] not in repetidos:\n",
    "                repetidos.append(lista[a])\n",
    "\n",
    "print('\\n') \n",
    "print('-'*100) \n",
    "print ('\\033[43m{:^100}\\033[0m'.format('\\033[43mLISTA DE NÚMEROS REPETIDOS DA LISTA PRINCIPAL')) \n",
    "print('-'*100) \n",
    "print('\\n')\n",
    "\n",
    "print(repetidos) \n",
    "print('_'*100)"
   ]
  }
 ],
 "metadata": {
  "kernelspec": {
   "display_name": "Python 3.9.12 ('base')",
   "language": "python",
   "name": "python3"
  },
  "language_info": {
   "codemirror_mode": {
    "name": "ipython",
    "version": 3
   },
   "file_extension": ".py",
   "mimetype": "text/x-python",
   "name": "python",
   "nbconvert_exporter": "python",
   "pygments_lexer": "ipython3",
   "version": "3.9.12"
  },
  "orig_nbformat": 4,
  "vscode": {
   "interpreter": {
    "hash": "e8755eff31258cf3f68aa399e6f759d79082959dfad6f58a9830d0e0b06355a5"
   }
  }
 },
 "nbformat": 4,
 "nbformat_minor": 2
}
