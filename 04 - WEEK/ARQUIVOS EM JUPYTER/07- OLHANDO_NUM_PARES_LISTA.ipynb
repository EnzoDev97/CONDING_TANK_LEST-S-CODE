{
 "cells": [
  {
   "cell_type": "code",
   "execution_count": 14,
   "metadata": {},
   "outputs": [
    {
     "name": "stdout",
     "output_type": "stream",
     "text": [
      "Há 4 números pares!\n",
      "----------------------------------------------------------------------------------------------------\n",
      "SORTEANDO 10 NÚMEROS...\n",
      "\n",
      "[66, 1, 41, 83, 13, 36, 82, 49, 58, 8]\n",
      "__________________________________________________ \n",
      "\n",
      "Há 5 números pares!\n"
     ]
    }
   ],
   "source": [
    "# 07-  Faça um programa que imprima o maior número de uma lista sem usar a função máx()\n",
    "\n",
    "lista_1 = [4,5,8,3,6,15,18,23]\n",
    "count = 0\n",
    "for i in range(len(lista_1)):\n",
    "    if lista_1[i] % 2 == 0:\n",
    "        count += 1\n",
    "\n",
    "print(f'Há {count} números pares!')\n",
    "\n",
    "\n",
    "print('-'*100)\n",
    "#OU\n",
    "\n",
    "\n",
    "from random import randint\n",
    "\n",
    "def sorteia(lista):\n",
    "    print('SORTEANDO 10 NÚMEROS...\\n')\n",
    "    for cont in range(0,10):   # ESCOLHENDO A QUANTIDADE DE NÚMEROS QUE DEVE SER SORTEADO\n",
    "        lista.append(randint(1,100))  # INFORMANDO  QUAIS NUMEROS  PODEM SER SORTEADO\n",
    "    print(numeros)\n",
    "    print('_'*50,'\\n')\n",
    "\n",
    "numeros = list()\n",
    "\n",
    "\n",
    "sorteia(numeros)\n",
    "\n",
    "c = 0\n",
    "for i in range(len(numeros)):\n",
    "    if numeros[i] % 2 == 0:\n",
    "        c += 1\n",
    "\n",
    "print(f'Há {c} números pares!')\n"
   ]
  }
 ],
 "metadata": {
  "kernelspec": {
   "display_name": "Python 3.9.12 ('base')",
   "language": "python",
   "name": "python3"
  },
  "language_info": {
   "codemirror_mode": {
    "name": "ipython",
    "version": 3
   },
   "file_extension": ".py",
   "mimetype": "text/x-python",
   "name": "python",
   "nbconvert_exporter": "python",
   "pygments_lexer": "ipython3",
   "version": "3.9.12"
  },
  "orig_nbformat": 4,
  "vscode": {
   "interpreter": {
    "hash": "84119b4a23c727451d2f5b202898a53a27583c1b582daf411d2362849740e029"
   }
  }
 },
 "nbformat": 4,
 "nbformat_minor": 2
}
