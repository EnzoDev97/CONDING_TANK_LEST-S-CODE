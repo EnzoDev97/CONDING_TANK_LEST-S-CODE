{
 "cells": [
  {
   "cell_type": "code",
   "execution_count": 3,
   "metadata": {},
   "outputs": [
    {
     "name": "stdout",
     "output_type": "stream",
     "text": [
      "55\n",
      "6987\n",
      "ENZO\n",
      "22.7\n",
      "----------------------------------------------------------------------------------------------------\n",
      "55\n",
      "6987\n",
      "ENZO\n",
      "22.7\n"
     ]
    }
   ],
   "source": [
    "# 05 - Faça um programa que imprima todos os itens de uma lista usando while e compare com o exercício 1.\n",
    "\n",
    "lista = [55,6987,'ENZO', 22.70]\n",
    "\n",
    "for i in range(len(lista)):\n",
    "    print(lista[i])\n",
    "\n",
    "print('-'*100)\n",
    "#OU \n",
    "\n",
    "lista = [55,6987,'ENZO', 22.70]\n",
    "count = 0\n",
    "while count < len(lista):\n",
    "    print(lista[count])\n",
    "    count += 1"
   ]
  }
 ],
 "metadata": {
  "kernelspec": {
   "display_name": "Python 3.9.12 ('base')",
   "language": "python",
   "name": "python3"
  },
  "language_info": {
   "codemirror_mode": {
    "name": "ipython",
    "version": 3
   },
   "file_extension": ".py",
   "mimetype": "text/x-python",
   "name": "python",
   "nbconvert_exporter": "python",
   "pygments_lexer": "ipython3",
   "version": "3.9.12"
  },
  "orig_nbformat": 4,
  "vscode": {
   "interpreter": {
    "hash": "e8755eff31258cf3f68aa399e6f759d79082959dfad6f58a9830d0e0b06355a5"
   }
  }
 },
 "nbformat": 4,
 "nbformat_minor": 2
}
