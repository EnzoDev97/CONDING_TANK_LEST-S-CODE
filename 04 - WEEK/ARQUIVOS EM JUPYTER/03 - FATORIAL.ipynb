{
 "cells": [
  {
   "cell_type": "code",
   "execution_count": 2,
   "metadata": {},
   "outputs": [
    {
     "name": "stdout",
     "output_type": "stream",
     "text": [
      "__________________________________________________\n",
      "\n",
      "\n",
      "O fatorial de 5 é 120\n"
     ]
    }
   ],
   "source": [
    "# 03 -  Faça um script que informe o fatorial de um número:\n",
    "\n",
    "numero = int(input('Digite um número inteiro maior ou igual a zero: ')) \n",
    "print('_'*50) \n",
    "print('\\n')\n",
    "\n",
    "while numero < 0: \n",
    "    numero = int(input('Digite um número inteiro maior ou igual a zero: ')) \n",
    "\n",
    "i = 1 \n",
    "fatorial = 1 \n",
    "\n",
    "while i < numero:\n",
    "     i += 1 \n",
    "     fatorial *= i \n",
    "else: \n",
    "        fatorial *= 1\n",
    "\n",
    "print('O fatorial de {} é {}'.format(numero,fatorial))"
   ]
  }
 ],
 "metadata": {
  "kernelspec": {
   "display_name": "Python 3.9.12 ('base')",
   "language": "python",
   "name": "python3"
  },
  "language_info": {
   "codemirror_mode": {
    "name": "ipython",
    "version": 3
   },
   "file_extension": ".py",
   "mimetype": "text/x-python",
   "name": "python",
   "nbconvert_exporter": "python",
   "pygments_lexer": "ipython3",
   "version": "3.9.12"
  },
  "orig_nbformat": 4,
  "vscode": {
   "interpreter": {
    "hash": "e8755eff31258cf3f68aa399e6f759d79082959dfad6f58a9830d0e0b06355a5"
   }
  }
 },
 "nbformat": 4,
 "nbformat_minor": 2
}
