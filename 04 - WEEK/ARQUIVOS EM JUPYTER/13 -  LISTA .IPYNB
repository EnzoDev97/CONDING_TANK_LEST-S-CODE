{
 "cells": [
  {
   "cell_type": "code",
   "execution_count": 1,
   "metadata": {},
   "outputs": [
    {
     "name": "stdout",
     "output_type": "stream",
     "text": [
      "A lista com os primeiros 4 números é: [4, 5, 8, 3]\n",
      "A lista com os últimos 5 números é: [15, 18, 23, 7, 38]\n",
      "A lista com elementos pares é: [4, 8, 6, 18, 38]\n",
      "A lista com elementos ímpares é: [5, 3, 15, 23, 7]\n",
      "A lista sorteada é: [38, 23, 18, 15, 8, 7, 6, 5, 4, 3]\n",
      "A Lista inversa dos primeiros 5 números é: [6, 3, 8, 5, 4]\n",
      "A Lista inversa dos últimos 5 números é: [38, 7, 23, 18, 15]\n"
     ]
    }
   ],
   "source": [
    "# 13 - Crie uma lista de 10 números e imprima:\n",
    "     # a. Uma lista com 4 primeiros números;\n",
    "     # b. Uma lista com os 5 últimos números; \n",
    "     # c. Uma lista contendo apenas elementos das posições pares\n",
    "     # d. Uma lista contendo apenas os elementos nas posições ímpares\n",
    "     # e. Uma lista inversa da lista sorteada (sort)\n",
    "     # f. Uma lista inversa dos primeiros 5 números\n",
    "     # g. Uma lista inversa dos últimos 5 números**\n",
    "\n",
    "lista = [4,5,8,3,6,15,18,23,7,38]\n",
    "\n",
    "# a.\n",
    "listaA = []\n",
    "\n",
    "for i in range(4):\n",
    "    listaA.append(lista[i])\n",
    "\n",
    "print(f'A lista com os primeiros 4 números é: {listaA}')\n",
    "\n",
    "# b.\n",
    "listaB = []\n",
    "\n",
    "for i in range(5, 10):\n",
    "    listaB.append(lista[i])\n",
    "\n",
    "print(f'A lista com os últimos 5 números é: {listaB}')\n",
    "\n",
    "# c. e d.\n",
    "listaC = []\n",
    "listaD = []\n",
    "\n",
    "for i in range(len(lista)):\n",
    "    if lista[i] % 2 == 0:\n",
    "        listaC.append(lista[i])\n",
    "    else:\n",
    "        listaD.append(lista[i])\n",
    "\n",
    "print(f'A lista com elementos pares é: {listaC}')\n",
    "print(f'A lista com elementos ímpares é: {listaD}')\n",
    "\n",
    "# e.\n",
    "listaE = []\n",
    "\n",
    "for i in range(len(lista)):\n",
    "    listaE.append(lista[i])\n",
    "    \n",
    "listaE.sort(reverse=True)\n",
    "\n",
    "print(f'A lista sorteada é: {listaE}')\n",
    "\n",
    "# f.\n",
    "listaF = []\n",
    "\n",
    "for i in range(5):\n",
    "    listaF.append(lista[i])\n",
    "    \n",
    "listaF.reverse()\n",
    "    \n",
    "print(f'A Lista inversa dos primeiros 5 números é: {listaF}')\n",
    "\n",
    "# g.\n",
    "listaG = []\n",
    "for i in range(5,10):\n",
    "    listaG.append(lista[i])\n",
    "    \n",
    "listaG.reverse()\n",
    "    \n",
    "print(f'A Lista inversa dos últimos 5 números é: {listaG}')"
   ]
  }
 ],
 "metadata": {
  "kernelspec": {
   "display_name": "Python 3.9.12 ('base')",
   "language": "python",
   "name": "python3"
  },
  "language_info": {
   "name": "python",
   "version": "3.9.12"
  },
  "orig_nbformat": 4,
  "vscode": {
   "interpreter": {
    "hash": "e8755eff31258cf3f68aa399e6f759d79082959dfad6f58a9830d0e0b06355a5"
   }
  }
 },
 "nbformat": 4,
 "nbformat_minor": 2
}
