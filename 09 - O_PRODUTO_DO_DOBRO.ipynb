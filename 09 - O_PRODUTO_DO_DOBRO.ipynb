{
 "cells": [
  {
   "cell_type": "code",
   "execution_count": 1,
   "metadata": {},
   "outputs": [
    {
     "name": "stdout",
     "output_type": "stream",
     "text": [
      "A RESPOSTA É 150.00\n",
      "A RESPOSTA É 35.00\n",
      "A RESPOSTA É 125.00\n"
     ]
    }
   ],
   "source": [
    "#09 - Faça um programa que peça 2 números inteiros e um número real, calcule e mostre:\n",
    "\n",
    "#a) o produto do dobro do primeiro com metade do segundo.\n",
    "\n",
    "#b) a soma do triplo do primeiro com o terceiro.\n",
    "\n",
    "#c) o terceiro elevado ao cubo.\n",
    "\n",
    "int1 = int(input('DIGITE UM NÚMERO INTERIO: '))\n",
    "int2 = int(input('DIGITE OUTRO NÚMERO INTERIO: '))\n",
    "real1 = float(input('DIGITE UM NÚMERO INTERIO: '))\n",
    "\n",
    "# O PRODUTO DO DOBRO DO PRIMEIRO COM METADE DO SEGUNDO\n",
    "produto = (2*int1*int2)/2\n",
    "print('A RESPOSTA É {:.2f}'.format(produto))\n",
    "\n",
    "# A SOMA TRIPLO DO PRIMEIRO COM O TERCEIROproduto1 = (3*int1*int2)/2\n",
    "produto1 = 3*int1 + real1\n",
    "print('A RESPOSTA É {:.2f}'.format(produto1))\n",
    "\n",
    "# O TERECIERO ELEVADO AO CUBO\n",
    "\n",
    "produto2 = real1**3\n",
    "print('A RESPOSTA É {:.2f}'.format(produto2))"
   ]
  }
 ],
 "metadata": {
  "kernelspec": {
   "display_name": "Python 3.9.12 ('base')",
   "language": "python",
   "name": "python3"
  },
  "language_info": {
   "codemirror_mode": {
    "name": "ipython",
    "version": 3
   },
   "file_extension": ".py",
   "mimetype": "text/x-python",
   "name": "python",
   "nbconvert_exporter": "python",
   "pygments_lexer": "ipython3",
   "version": "3.9.12"
  },
  "orig_nbformat": 4,
  "vscode": {
   "interpreter": {
    "hash": "84119b4a23c727451d2f5b202898a53a27583c1b582daf411d2362849740e029"
   }
  }
 },
 "nbformat": 4,
 "nbformat_minor": 2
}
