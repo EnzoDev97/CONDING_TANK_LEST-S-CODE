{
 "cells": [
  {
   "cell_type": "code",
   "execution_count": 1,
   "metadata": {},
   "outputs": [
    {
     "name": "stdout",
     "output_type": "stream",
     "text": [
      "----------------------------------------\n",
      "\n",
      "\n",
      "========================================\n",
      "\u001b[42m O NÚMERO 651 ESTÁ NO FORMATO STRING\u001b[0m\n",
      "\u001b[43m O NÚMERO 651 ESTÁ NO FORMATO INT\u001b[0m\n",
      "\u001b[44m O NÚMERO 651.0 ESTÁ NO FORMATO FLOAT\u001b[0m\n",
      "========================================\n"
     ]
    }
   ],
   "source": [
    "#08 - Faça um programa que peça um número para o usuário (string), converta-o para float e depois imprima-o na tela.\n",
    "#Você consegue fazer a mesma coisa, porém convertendo para int?\n",
    "\n",
    "a = input('DIGITE UM NÚMERO : ') \n",
    "print('-'*40) \n",
    "print('\\n')\n",
    "\n",
    "a_int = int(a) \n",
    "a_float = float(a)\n",
    "\n",
    "print('='*40) \n",
    "print('\\033[42m O NÚMERO {} ESTÁ NO FORMATO STRING\\033[0m'.format(a)) \n",
    "print('\\033[43m O NÚMERO {} ESTÁ NO FORMATO INT\\033[0m'.format(a_int)) \n",
    "print('\\033[44m O NÚMERO {} ESTÁ NO FORMATO FLOAT\\033[0m'.format(a_float)) \n",
    "print('='*40)"
   ]
  }
 ],
 "metadata": {
  "kernelspec": {
   "display_name": "Python 3.9.12 ('base')",
   "language": "python",
   "name": "python3"
  },
  "language_info": {
   "codemirror_mode": {
    "name": "ipython",
    "version": 3
   },
   "file_extension": ".py",
   "mimetype": "text/x-python",
   "name": "python",
   "nbconvert_exporter": "python",
   "pygments_lexer": "ipython3",
   "version": "3.9.12"
  },
  "orig_nbformat": 4,
  "vscode": {
   "interpreter": {
    "hash": "84119b4a23c727451d2f5b202898a53a27583c1b582daf411d2362849740e029"
   }
  }
 },
 "nbformat": 4,
 "nbformat_minor": 2
}
