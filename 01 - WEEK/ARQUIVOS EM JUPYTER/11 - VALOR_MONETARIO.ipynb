{
 "cells": [
  {
   "cell_type": "code",
   "execution_count": 4,
   "metadata": {},
   "outputs": [
    {
     "name": "stdout",
     "output_type": "stream",
     "text": [
      "------------------------------------------------------------\n",
      "\n",
      "\n",
      "O com aumento é R$ 2875.00 reais\n",
      "O valor diminuido é R$ 2125.0 reais\n"
     ]
    }
   ],
   "source": [
    "# 11 - Faça um programa que peça um valor monetário e aumente-o em 15%. Seu programa deve imprimir a mensagem “O novo valor é [valor]”.\n",
    "\n",
    "valor_monetario = float(input('DIGITE O VALOR MONETÁRIO: ')) \n",
    "print('-'*60) \n",
    "print('\\n')\n",
    "\n",
    "juros = valor_monetario * 0.15 \n",
    "valor_novo = valor_monetario + juros\n",
    "\n",
    "print('O com aumento é R$ {:.2f} reais'.format(valor_novo))\n",
    "\n",
    "# Faça um programa que peça um valor monetário e diminua-o em 15%\n",
    "\n",
    "valor = float(input(\"Qual o valor? \"))\n",
    "print(\"O valor diminuido é R$\",valor*0.85, 'reais')\n"
   ]
  }
 ],
 "metadata": {
  "kernelspec": {
   "display_name": "Python 3.9.12 ('base')",
   "language": "python",
   "name": "python3"
  },
  "language_info": {
   "codemirror_mode": {
    "name": "ipython",
    "version": 3
   },
   "file_extension": ".py",
   "mimetype": "text/x-python",
   "name": "python",
   "nbconvert_exporter": "python",
   "pygments_lexer": "ipython3",
   "version": "3.9.12"
  },
  "orig_nbformat": 4,
  "vscode": {
   "interpreter": {
    "hash": "84119b4a23c727451d2f5b202898a53a27583c1b582daf411d2362849740e029"
   }
  }
 },
 "nbformat": 4,
 "nbformat_minor": 2
}
