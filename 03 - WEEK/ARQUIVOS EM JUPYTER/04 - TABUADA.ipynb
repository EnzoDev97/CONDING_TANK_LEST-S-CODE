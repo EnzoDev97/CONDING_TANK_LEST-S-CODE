{
 "cells": [
  {
   "cell_type": "code",
   "execution_count": 2,
   "metadata": {},
   "outputs": [
    {
     "name": "stdout",
     "output_type": "stream",
     "text": [
      "____________________\n",
      "\n",
      "\n",
      "=======================================================\n",
      "|\u001b[42m                       TABUADA                       |\u001b[0m\n",
      "=======================================================\n",
      "\n",
      "\n",
      "================================================\n",
      "|\u001b[44m  NÚMERO  \u001b[0m x \u001b[41m MULTIPLICADOR \u001b[0m = \u001b[43m   RESULTADO   \u001b[0m|\n",
      "================================================\n",
      "|    7      x        1        =        7       |\n",
      "|    7      x        2        =       14       |\n",
      "|    7      x        3        =       21       |\n",
      "|    7      x        4        =       28       |\n",
      "|    7      x        5        =       35       |\n",
      "|    7      x        6        =       42       |\n",
      "|    7      x        7        =       49       |\n",
      "|    7      x        8        =       56       |\n",
      "|    7      x        9        =       63       |\n",
      "|    7      x       10        =       70       |\n",
      "------------------------------------------------\n",
      "\n",
      "\n"
     ]
    }
   ],
   "source": [
    "#04) Faça um programa que imprima a tabuada do 9 (de 9*1 a 9*10) usando loops.\n",
    "\n",
    "qtd_numeros = int(input('DIGITE QUANTAS TABUADAS É PARA SEREM FEITAS: ')) \n",
    "print('_' * 20) \n",
    "print('\\n')\n",
    "\n",
    "print('=' * 55) \n",
    "print( '|\\033[42m{:^53}|\\033[0m'.format('TABUADA')) \n",
    "print('=' * 55) \n",
    "print('\\n')\n",
    "\n",
    "\n",
    "\n",
    "print('=' * 48)\n",
    "print('|\\033[44m{:^10}\\033[0m x \\033[41m{:^15}\\033[0m = \\033[43m{:^15}\\033[0m|'.format('NÚMERO','MULTIPLICADOR','RESULTADO'))\n",
    "print('=' * 48)\n",
    "\n",
    "i = 1\n",
    "while i < 11:\n",
    "    print('|{:^10} x {:^15} = {:^15}|'.format( qtd_numeros, i, i*qtd_numeros))\n",
    "    i += 1\n",
    "    pass\n",
    "print('-' * 48) \n",
    "print('\\n')\n"
   ]
  }
 ],
 "metadata": {
  "kernelspec": {
   "display_name": "Python 3.9.12 ('base')",
   "language": "python",
   "name": "python3"
  },
  "language_info": {
   "codemirror_mode": {
    "name": "ipython",
    "version": 3
   },
   "file_extension": ".py",
   "mimetype": "text/x-python",
   "name": "python",
   "nbconvert_exporter": "python",
   "pygments_lexer": "ipython3",
   "version": "3.9.12"
  },
  "orig_nbformat": 4,
  "vscode": {
   "interpreter": {
    "hash": "e8755eff31258cf3f68aa399e6f759d79082959dfad6f58a9830d0e0b06355a5"
   }
  }
 },
 "nbformat": 4,
 "nbformat_minor": 2
}
