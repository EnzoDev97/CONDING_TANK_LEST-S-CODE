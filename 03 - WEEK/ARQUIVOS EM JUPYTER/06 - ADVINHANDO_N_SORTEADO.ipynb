{
 "cells": [
  {
   "cell_type": "code",
   "execution_count": 1,
   "metadata": {},
   "outputs": [
    {
     "name": "stdout",
     "output_type": "stream",
     "text": [
      "Parabéns, voce acertou! O número escolhido foi: 2\n"
     ]
    }
   ],
   "source": [
    "#06 ) Faça um programa que sorteia um número N e peça para o usuário adivinhar o número sorteado. \n",
    "#A cada resposta errada, o seu programa deve imprimir um aviso dizendo que a resposta está errada e pedir novamente uma resposta ao usuário.\n",
    "#Para a realização desse exercício, utilize alguma função da biblioteca random (e.g. randint()).\n",
    "\n",
    "import random3\n",
    "\n",
    "sorteado = random.randint(1,10)\n",
    "\n",
    "numero = int(input('Advinhe o número inteiro escolhido entre 1 e 10: '))\n",
    "\n",
    "while numero != sorteado:\n",
    "    numero = int(input('Resposta errada! Tente novamente: '))\n",
    "\n",
    "print('Parabéns, voce acertou! O número escolhido foi:', sorteado)"
   ]
  }
 ],
 "metadata": {
  "kernelspec": {
   "display_name": "Python 3.9.12 ('base')",
   "language": "python",
   "name": "python3"
  },
  "language_info": {
   "name": "python",
   "version": "3.9.12"
  },
  "orig_nbformat": 4,
  "vscode": {
   "interpreter": {
    "hash": "e8755eff31258cf3f68aa399e6f759d79082959dfad6f58a9830d0e0b06355a5"
   }
  }
 },
 "nbformat": 4,
 "nbformat_minor": 2
}
