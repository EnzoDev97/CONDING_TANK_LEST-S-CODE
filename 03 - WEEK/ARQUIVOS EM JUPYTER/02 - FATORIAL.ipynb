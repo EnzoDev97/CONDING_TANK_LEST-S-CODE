{
 "cells": [
  {
   "cell_type": "code",
   "execution_count": 1,
   "metadata": {},
   "outputs": [
    {
     "name": "stdout",
     "output_type": "stream",
     "text": [
      "O fatorial é:  1307674368000\n"
     ]
    }
   ],
   "source": [
    "#02) Peça ao usuário para digitar um número e imprima o fatorial de n.\n",
    "\n",
    "numero = int(input('Digite um número: '))\n",
    "fatorial = 1\n",
    "contador = 1\n",
    "\n",
    "while contador <= numero:\n",
    "    fatorial = fatorial*contador # multiplicação o fatorial pelo contador atual\n",
    "    contador = contador+1\n",
    "\n",
    "print('O fatorial é: ', fatorial)"
   ]
  }
 ],
 "metadata": {
  "kernelspec": {
   "display_name": "Python 3.9.12 ('base')",
   "language": "python",
   "name": "python3"
  },
  "language_info": {
   "name": "python",
   "version": "3.9.12"
  },
  "orig_nbformat": 4,
  "vscode": {
   "interpreter": {
    "hash": "e8755eff31258cf3f68aa399e6f759d79082959dfad6f58a9830d0e0b06355a5"
   }
  }
 },
 "nbformat": 4,
 "nbformat_minor": 2
}
