{
 "cells": [
  {
   "cell_type": "code",
   "execution_count": 2,
   "metadata": {},
   "outputs": [
    {
     "name": "stdout",
     "output_type": "stream",
     "text": [
      "6\n",
      "2\n",
      "7\n",
      "8\n",
      "52\n",
      "22\n",
      "546\n",
      "7757242\n",
      "5\n",
      "2\n",
      "1\n",
      "4\n",
      "53\n",
      "0\n",
      "____________________________________________________________________________________________________ \n",
      "\n",
      "PROGRAMA FINALIZADO! \n"
     ]
    }
   ],
   "source": [
    "#14 - Peça para um usuário digitar um número e que só finaliza quando o usuário digitar 0.\n",
    "\n",
    "acc = 0\n",
    "\n",
    "number = int(input('DIGITE UM NÚMERO OU 0 PARA SIR DO LOOP: '))\n",
    "while number !=0:\n",
    "    number = int(input('DIGITE UM NÚMERO OU 0 PARA SIR DO LOOP: '))\n",
    "    print(number)\n",
    "\n",
    "print('_'*100,'\\n')\n",
    "print('PROGRAMA FINALIZADO! ')\n"
   ]
  }
 ],
 "metadata": {
  "kernelspec": {
   "display_name": "Python 3.9.12 ('base')",
   "language": "python",
   "name": "python3"
  },
  "language_info": {
   "codemirror_mode": {
    "name": "ipython",
    "version": 3
   },
   "file_extension": ".py",
   "mimetype": "text/x-python",
   "name": "python",
   "nbconvert_exporter": "python",
   "pygments_lexer": "ipython3",
   "version": "3.9.12"
  },
  "orig_nbformat": 4,
  "vscode": {
   "interpreter": {
    "hash": "84119b4a23c727451d2f5b202898a53a27583c1b582daf411d2362849740e029"
   }
  }
 },
 "nbformat": 4,
 "nbformat_minor": 2
}
