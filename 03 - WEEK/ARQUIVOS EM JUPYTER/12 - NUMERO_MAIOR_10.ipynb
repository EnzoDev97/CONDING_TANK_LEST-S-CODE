{
 "cells": [
  {
   "cell_type": "code",
   "execution_count": 1,
   "metadata": {},
   "outputs": [
    {
     "name": "stdout",
     "output_type": "stream",
     "text": [
      "\n",
      "\n",
      "----------------------------------------\n",
      "\u001b[42mO NÚMERO DIGITADO FOI : 55\u001b[5m\n"
     ]
    }
   ],
   "source": [
    "numero = 0\n",
    "while numero <=10:\n",
    "    numero=int(input('DIGITE UM NÚMERO MAIOR QUE 10: '))\n",
    "print('\\n')\n",
    "print('-'*40)    \n",
    "\n",
    "print('\\033[42mO NÚMERO DIGITADO FOI : {}\\033[5m'.format(numero))"
   ]
  }
 ],
 "metadata": {
  "kernelspec": {
   "display_name": "Python 3.9.12 ('base')",
   "language": "python",
   "name": "python3"
  },
  "language_info": {
   "name": "python",
   "version": "3.9.12"
  },
  "orig_nbformat": 4,
  "vscode": {
   "interpreter": {
    "hash": "e8755eff31258cf3f68aa399e6f759d79082959dfad6f58a9830d0e0b06355a5"
   }
  }
 },
 "nbformat": 4,
 "nbformat_minor": 2
}
