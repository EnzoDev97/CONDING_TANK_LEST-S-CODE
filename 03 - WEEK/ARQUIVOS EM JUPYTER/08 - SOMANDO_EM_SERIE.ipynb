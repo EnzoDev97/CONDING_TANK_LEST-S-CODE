{
 "cells": [
  {
   "cell_type": "code",
   "execution_count": 4,
   "metadata": {},
   "outputs": [
    {
     "name": "stdout",
     "output_type": "stream",
     "text": [
      "20.0\n"
     ]
    }
   ],
   "source": [
    "#08 Desafio! - Calcule a soma de até mil termos da série 1 + 1/2 + 1/4 + 1/8 + 1/16 + ...\n",
    "\n",
    "#Dica: Use três variáveis:\n",
    "\n",
    "#• um contador, que começa em zero;\n",
    "\n",
    "#• uma variável para a soma de todos os termos, que também começa em zero;\n",
    "\n",
    "#• uma variável para cada termo, que começa em 1 e a cada loop é dividida por 2.\n",
    "\n",
    "#A repetição da soma de mil termos pode ser feita com a função while contador < 1000.\n",
    "\n",
    "\n",
    "\n",
    "\n",
    "contador = 0\n",
    "soma = 0\n",
    "valor = int(input()) \n",
    "\n",
    "while contador < 1000:\n",
    "  soma += valor\n",
    "  valor /= 2\n",
    "  contador +=1 \n",
    "\n",
    "print(soma)"
   ]
  }
 ],
 "metadata": {
  "kernelspec": {
   "display_name": "Python 3.9.12 ('base')",
   "language": "python",
   "name": "python3"
  },
  "language_info": {
   "codemirror_mode": {
    "name": "ipython",
    "version": 3
   },
   "file_extension": ".py",
   "mimetype": "text/x-python",
   "name": "python",
   "nbconvert_exporter": "python",
   "pygments_lexer": "ipython3",
   "version": "3.9.12"
  },
  "orig_nbformat": 4,
  "vscode": {
   "interpreter": {
    "hash": "84119b4a23c727451d2f5b202898a53a27583c1b582daf411d2362849740e029"
   }
  }
 },
 "nbformat": 4,
 "nbformat_minor": 2
}
