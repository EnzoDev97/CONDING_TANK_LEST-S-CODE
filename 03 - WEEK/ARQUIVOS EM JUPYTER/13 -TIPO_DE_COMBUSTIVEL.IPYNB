{
 "cells": [
  {
   "cell_type": "code",
   "execution_count": 1,
   "metadata": {},
   "outputs": [
    {
     "name": "stdout",
     "output_type": "stream",
     "text": [
      "\u001b[41mCOMBUSTIVEL INVALIDO!\u001b[0m\n",
      "------------------------------------------------------------\n",
      "____________________________________________________________\n",
      "\n",
      "\n",
      "\u001b[42mO COMBUSTIVEL ESCOLHIDO FOI:\u001b[0m A\n"
     ]
    }
   ],
   "source": [
    "tipo_de_combustivel=input('INFORME O TIPO DO SEU COMBUSTIVEL (A/G): ')\n",
    "\n",
    "while tipo_de_combustivel.lower() != 'a' and tipo_de_combustivel.lower() != 'g':\n",
    "    print('\\033[41mCOMBUSTIVEL INVALIDO!\\033[0m')\n",
    "    print('-'*60)\n",
    "    tipo_de_combustivel=input('INFORME O TIPO DO SEU COMBUSTIVEL (A/G): ')\n",
    "   \n",
    "print('_'*60)\n",
    "print('\\n')\n",
    "print('\\033[42mO COMBUSTIVEL ESCOLHIDO FOI:\\033[0m {}'.format(tipo_de_combustivel.upper()))"
   ]
  }
 ],
 "metadata": {
  "kernelspec": {
   "display_name": "Python 3.9.12 ('base')",
   "language": "python",
   "name": "python3"
  },
  "language_info": {
   "codemirror_mode": {
    "name": "ipython",
    "version": 3
   },
   "file_extension": ".py",
   "mimetype": "text/x-python",
   "name": "python",
   "nbconvert_exporter": "python",
   "pygments_lexer": "ipython3",
   "version": "3.9.12"
  },
  "orig_nbformat": 4,
  "vscode": {
   "interpreter": {
    "hash": "84119b4a23c727451d2f5b202898a53a27583c1b582daf411d2362849740e029"
   }
  }
 },
 "nbformat": 4,
 "nbformat_minor": 2
}
