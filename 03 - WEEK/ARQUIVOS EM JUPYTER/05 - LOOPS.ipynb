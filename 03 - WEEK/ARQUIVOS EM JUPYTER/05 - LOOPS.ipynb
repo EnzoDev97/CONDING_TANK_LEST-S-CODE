{
 "cells": [
  {
   "cell_type": "code",
   "execution_count": 2,
   "metadata": {},
   "outputs": [
    {
     "name": "stdout",
     "output_type": "stream",
     "text": [
      "____________________________________________________________________________________________________\n",
      "\n",
      "\n",
      "A soma dos números dados é 41.\n"
     ]
    }
   ],
   "source": [
    "#05 ) Faça um programa, usando loops, que peça para um usuário digitar um número e que \n",
    "#só finaliza quando o usuário digitar 0. Ao final imprima a soma de todos os números digitados.\n",
    "\n",
    "numero = 0 \n",
    "number = int(input('Digite um número para somar ou 0 para sair: ')) \n",
    "numero += number\n",
    "\n",
    "while number != 0: \n",
    "    number = int(input('Digite um número para somar ou 0 para sair: ')) \n",
    "    numero += number\n",
    "\n",
    "print('_'*100) \n",
    "print('\\n')\n",
    "\n",
    "print('A soma dos números dados é {}.'.format(numero))"
   ]
  }
 ],
 "metadata": {
  "kernelspec": {
   "display_name": "Python 3.9.12 ('base')",
   "language": "python",
   "name": "python3"
  },
  "language_info": {
   "codemirror_mode": {
    "name": "ipython",
    "version": 3
   },
   "file_extension": ".py",
   "mimetype": "text/x-python",
   "name": "python",
   "nbconvert_exporter": "python",
   "pygments_lexer": "ipython3",
   "version": "3.9.12"
  },
  "orig_nbformat": 4,
  "vscode": {
   "interpreter": {
    "hash": "84119b4a23c727451d2f5b202898a53a27583c1b582daf411d2362849740e029"
   }
  }
 },
 "nbformat": 4,
 "nbformat_minor": 2
}
