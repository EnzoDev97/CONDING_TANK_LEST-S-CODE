{
 "cells": [
  {
   "cell_type": "code",
   "execution_count": 1,
   "metadata": {},
   "outputs": [
    {
     "name": "stdout",
     "output_type": "stream",
     "text": [
      "|\u001b[42mRESPOSTA CORRETA\u001b[0m| - Você acertou o número 158! ----> Foram necessárias 9 tentativa(s).\n"
     ]
    }
   ],
   "source": [
    "import random as rd\n",
    "\n",
    "unkown_number = rd.randint(1,1000)\n",
    "\n",
    "guess_number = int(input('Chute um número entre 1 e 1000: '))\n",
    "count = 1\n",
    "while guess_number != unkown_number:\n",
    "    hint = 'baixo' if unkown_number < guess_number else 'alto'\n",
    "    guess_number = int(input('|\\033[41mRESPOSTA ERRADA\\033[0m|----> Digite um valor mais '+hint+': '))\n",
    "    count += 1\n",
    "\n",
    "print('|\\033[42mRESPOSTA CORRETA\\033[0m| - Você acertou o número {}! ----> Foram necessárias {} tentativa(s).'.format(unkown_number,count))"
   ]
  }
 ],
 "metadata": {
  "kernelspec": {
   "display_name": "Python 3.9.12 ('base')",
   "language": "python",
   "name": "python3"
  },
  "language_info": {
   "codemirror_mode": {
    "name": "ipython",
    "version": 3
   },
   "file_extension": ".py",
   "mimetype": "text/x-python",
   "name": "python",
   "nbconvert_exporter": "python",
   "pygments_lexer": "ipython3",
   "version": "3.9.12"
  },
  "orig_nbformat": 4,
  "vscode": {
   "interpreter": {
    "hash": "84119b4a23c727451d2f5b202898a53a27583c1b582daf411d2362849740e029"
   }
  }
 },
 "nbformat": 4,
 "nbformat_minor": 2
}
