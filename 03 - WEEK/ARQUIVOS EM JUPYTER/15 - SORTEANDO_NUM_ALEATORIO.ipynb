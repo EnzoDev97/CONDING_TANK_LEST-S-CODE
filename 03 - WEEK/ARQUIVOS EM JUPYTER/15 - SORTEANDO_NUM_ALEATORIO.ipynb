{
 "cells": [
  {
   "cell_type": "code",
   "execution_count": null,
   "metadata": {},
   "outputs": [],
   "source": [
    "#15 - Peça ao usuário para digitar um número N e some todos os números de 1 a N utilizando o laço de repetição while.\n",
    "\n",
    "\n",
    "number = int(input('Digite um número inteiro : '))\n",
    "\n",
    "while number <= 0:\n",
    "    number = int(input('Digite um número inteiro maior que zero: '))\n",
    "\n",
    "i = 1\n",
    "adicao = i\n",
    "while i < number:\n",
    "    i += 1\n",
    "    adicao+= i\n",
    "print(f'A soma de 1 a {number} é {adicao}.')"
   ]
  }
 ],
 "metadata": {
  "language_info": {
   "name": "python"
  },
  "orig_nbformat": 4
 },
 "nbformat": 4,
 "nbformat_minor": 2
}
