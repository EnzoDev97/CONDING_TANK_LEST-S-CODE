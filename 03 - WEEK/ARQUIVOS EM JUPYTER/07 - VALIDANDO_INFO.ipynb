{
 "cells": [
  {
   "cell_type": "code",
   "execution_count": 3,
   "metadata": {},
   "outputs": [
    {
     "name": "stdout",
     "output_type": "stream",
     "text": [
      "Entrada de idade inválida. Por favor, digite um idade entre 0 e 150 anos.\n",
      "Entrada de idade inválida. Por favor, digite um idade entre 0 e 150 anos.\n",
      "____________________________________________________________________________________________________\n",
      "\n",
      "\n",
      "Entrada de salário inválida. Por favor, digite valor maior que 0.\n",
      "Entrada de salário inválida. Por favor, digite valor maior que 0.\n",
      "____________________________________________________________________________________________________\n",
      "\n",
      "\n",
      "Entrada de sexo inválida. Por favor, digite valor maior que 0.\n",
      "Entrada de sexo inválida. Por favor, digite valor maior que 0.\n",
      "Entrada de sexo inválida. Por favor, digite valor maior que 0.\n",
      "Entrada de sexo inválida. Por favor, digite valor maior que 0.\n"
     ]
    }
   ],
   "source": [
    "# 07 - Faça um programa que peça para o usuário digitar a idade, o salário e o sexo de uma pessoa até que as entradas digitadas sejam válidas.\n",
    "\n",
    "#a. Idade: entre 0 e 150;\n",
    "\n",
    "#b. Salário: maior que 0;\n",
    "\n",
    "#c. Sexo: M, F ou Outro.\n",
    "\n",
    "\n",
    "\n",
    "age = int(input('INFORME SUA IDADE: '))\n",
    "while not(0<=age<=150): \n",
    "    print('Entrada de idade inválida. Por favor, digite um idade entre 0 e 150 anos.') \n",
    "    age = int(input('Digite a sua idade mais uma vez: '))\n",
    "\n",
    "print('_'*100) \n",
    "print('\\n')\n",
    "\n",
    "salary = int(input('DIGITE SEU SALÁRIO: ')) \n",
    "while salary<=0: \n",
    "    print(f'Entrada de salário inválida. Por favor, digite valor maior que 0.') \n",
    "    salary = int(input('Digite o seu salário mais uma vez: '))\n",
    "\n",
    "print('_'*100) \n",
    "print('\\n')\n",
    "\n",
    "sex = input('QUAL É O SEU GÊNERO ? (F/M/Outro) ') \n",
    "while sex not in ['M', 'F', 'Outro']:\n",
    "    print(f'Entrada de sexo inválida. Por favor, digite valor maior que 0.')\n",
    "    sex = input('Informe o seu sexo (F/M/Outro) mais uma vez: ')"
   ]
  }
 ],
 "metadata": {
  "kernelspec": {
   "display_name": "Python 3.9.12 ('base')",
   "language": "python",
   "name": "python3"
  },
  "language_info": {
   "codemirror_mode": {
    "name": "ipython",
    "version": 3
   },
   "file_extension": ".py",
   "mimetype": "text/x-python",
   "name": "python",
   "nbconvert_exporter": "python",
   "pygments_lexer": "ipython3",
   "version": "3.9.12"
  },
  "orig_nbformat": 4,
  "vscode": {
   "interpreter": {
    "hash": "84119b4a23c727451d2f5b202898a53a27583c1b582daf411d2362849740e029"
   }
  }
 },
 "nbformat": 4,
 "nbformat_minor": 2
}
