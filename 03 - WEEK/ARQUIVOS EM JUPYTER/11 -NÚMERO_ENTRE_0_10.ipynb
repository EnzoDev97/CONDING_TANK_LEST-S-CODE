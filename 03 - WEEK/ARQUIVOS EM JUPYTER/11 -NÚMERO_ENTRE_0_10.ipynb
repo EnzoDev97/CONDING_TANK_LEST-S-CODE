{
 "cells": [
  {
   "cell_type": "code",
   "execution_count": 5,
   "metadata": {},
   "outputs": [
    {
     "name": "stdout",
     "output_type": "stream",
     "text": [
      "\n",
      "\n",
      "----------------------------------------\n",
      "O NÚMERO INFORMADO FOI : 9\n"
     ]
    }
   ],
   "source": [
    "numero = -1\n",
    "while not(0<=numero <=10):\n",
    "    numero = int(input('DIGITE UM NÚMERO ENTRE 0 E 10: '))\n",
    "\n",
    "\n",
    "print('\\n')\n",
    "print('-'*40)\n",
    "print('O NÚMERO INFORMADO FOI : {}'.format(numero))\n"
   ]
  }
 ],
 "metadata": {
  "kernelspec": {
   "display_name": "Python 3.9.12 ('base')",
   "language": "python",
   "name": "python3"
  },
  "language_info": {
   "codemirror_mode": {
    "name": "ipython",
    "version": 3
   },
   "file_extension": ".py",
   "mimetype": "text/x-python",
   "name": "python",
   "nbconvert_exporter": "python",
   "pygments_lexer": "ipython3",
   "version": "3.9.12"
  },
  "orig_nbformat": 4,
  "vscode": {
   "interpreter": {
    "hash": "e8755eff31258cf3f68aa399e6f759d79082959dfad6f58a9830d0e0b06355a5"
   }
  }
 },
 "nbformat": 4,
 "nbformat_minor": 2
}
