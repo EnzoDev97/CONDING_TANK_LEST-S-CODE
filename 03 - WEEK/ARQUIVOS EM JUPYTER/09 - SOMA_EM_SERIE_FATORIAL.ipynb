{
 "cells": [
  {
   "cell_type": "code",
   "execution_count": 1,
   "metadata": {},
   "outputs": [
    {
     "name": "stdout",
     "output_type": "stream",
     "text": [
      "1.7182818284590455\n"
     ]
    }
   ],
   "source": [
    "#09 Super Desafio! - Calcule a soma de mil termos dos inversos dos fatoriais: 1/(1!) + 1/(2!) + 1/(3!) + 1/(4!) + ...\n",
    "\n",
    "#Dica: Assim como no exercício anterior use três variáveis: \n",
    "\n",
    "#* um contador; \n",
    "#* uma variável para a soma; \n",
    "#* e uma variável para os termos. \n",
    "\n",
    "\n",
    "#Lembre-se de que 4! = 4*3*2*1 que também é igual a 4*3!.\n",
    "\n",
    "\n",
    "\n",
    "contador = 1\n",
    "soma = 0\n",
    "valor = 1 \n",
    "fatorial = 1\n",
    "\n",
    "while contador < 1000:\n",
    "  fatorial *= contador\n",
    "  valor = 1/fatorial\n",
    "  soma += valor\n",
    "  contador +=1 \n",
    "\n",
    "print(soma)"
   ]
  }
 ],
 "metadata": {
  "kernelspec": {
   "display_name": "Python 3.9.12 ('base')",
   "language": "python",
   "name": "python3"
  },
  "language_info": {
   "name": "python",
   "version": "3.9.12"
  },
  "orig_nbformat": 4,
  "vscode": {
   "interpreter": {
    "hash": "84119b4a23c727451d2f5b202898a53a27583c1b582daf411d2362849740e029"
   }
  }
 },
 "nbformat": 4,
 "nbformat_minor": 2
}
