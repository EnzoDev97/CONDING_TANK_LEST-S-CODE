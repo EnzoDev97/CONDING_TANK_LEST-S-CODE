{
 "cells": [
  {
   "cell_type": "code",
   "execution_count": 1,
   "metadata": {},
   "outputs": [
    {
     "name": "stdout",
     "output_type": "stream",
     "text": [
      "____________________________________________________________________________________________________\n",
      "\n",
      "\n",
      "MEU NOME É \u001b[42mENZO\u001b[0m EU TENHO \u001b[42m24\u001b[0m ANOS E MEU FILME FAVORITO É \u001b[42mMATRIX\u001b[0m\n"
     ]
    }
   ],
   "source": [
    "# 02 -Escreva um programa que receba seu nome, sua idade e filme predileto, e escreva uma unica sentença que seja\n",
    "#\"Meu nome é 'nome', tenho 'anos' anos e meu filme predileto é ''\n",
    "\n",
    "\n",
    "nome = input('INFORME SEU NOME: ')\n",
    "idade = int(input('DIGITE SUA IDADE: '))\n",
    "filme = input('QUAL É O SEU FILME FAVORITO? ')\n",
    "print('_'*100)\n",
    "print('\\n')\n",
    "\n",
    "print('MEU NOME É \\033[42m{}\\033[0m EU TENHO \\033[42m{}\\033[0m ANOS E MEU FILME FAVORITO É \\033[42m{}\\033[0m'.format(nome,idade,filme))"
   ]
  }
 ],
 "metadata": {
  "kernelspec": {
   "display_name": "Python 3.9.12 ('base')",
   "language": "python",
   "name": "python3"
  },
  "language_info": {
   "codemirror_mode": {
    "name": "ipython",
    "version": 3
   },
   "file_extension": ".py",
   "mimetype": "text/x-python",
   "name": "python",
   "nbconvert_exporter": "python",
   "pygments_lexer": "ipython3",
   "version": "3.9.12"
  },
  "orig_nbformat": 4,
  "vscode": {
   "interpreter": {
    "hash": "84119b4a23c727451d2f5b202898a53a27583c1b582daf411d2362849740e029"
   }
  }
 },
 "nbformat": 4,
 "nbformat_minor": 2
}
