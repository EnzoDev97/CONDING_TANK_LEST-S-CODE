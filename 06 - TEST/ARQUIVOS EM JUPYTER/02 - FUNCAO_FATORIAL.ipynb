{
 "cells": [
  {
   "cell_type": "code",
   "execution_count": 29,
   "metadata": {},
   "outputs": [],
   "source": [
    "# 2 - Peça ao usuário para entrar com um número e faça uma função que retorne o fatorial dele como resposta. \n",
    "#O fatorial de um número é o resultado da multiplicação de todos os números que o antecedem a partir de 1 até o número fornecido.\n",
    "\n",
    "\n",
    "def fatorial(n):\n",
    "    fat = 1\n",
    "    while n > 1:\n",
    "        fat *= n # fat = fat * n\n",
    "        n -= 1 # n = n - 1\n",
    "    return fat\n",
    "\n",
    "# OU\n",
    "\n",
    "def f(n):\n",
    "    fat = 1\n",
    "    for num in range(n):\n",
    "        fat = fat * (num+1)\n",
    "    return fat\n",
    "\n",
    "\n",
    "\n",
    "# OU\n",
    "\n",
    "def fat(numero):\n",
    "\n",
    "    i = 1\n",
    "    fatorial = 1\n",
    "    while i < numero:\n",
    "        i += 1\n",
    "        fatorial *= i\n",
    "    else:\n",
    "        fatorial *= 1\n",
    "        \n",
    "    print('O fatorial de {} é {}'.format(numero,fatorial))\n"
   ]
  },
  {
   "cell_type": "code",
   "execution_count": 30,
   "metadata": {},
   "outputs": [
    {
     "data": {
      "text/plain": [
       "24"
      ]
     },
     "execution_count": 30,
     "metadata": {},
     "output_type": "execute_result"
    }
   ],
   "source": [
    "fatorial(4)\n"
   ]
  },
  {
   "cell_type": "code",
   "execution_count": 31,
   "metadata": {},
   "outputs": [
    {
     "data": {
      "text/plain": [
       "120"
      ]
     },
     "execution_count": 31,
     "metadata": {},
     "output_type": "execute_result"
    }
   ],
   "source": [
    "f(5)"
   ]
  },
  {
   "cell_type": "code",
   "execution_count": 32,
   "metadata": {},
   "outputs": [
    {
     "name": "stdout",
     "output_type": "stream",
     "text": [
      "O fatorial de 5 é 120\n"
     ]
    }
   ],
   "source": [
    "fat(5)"
   ]
  }
 ],
 "metadata": {
  "kernelspec": {
   "display_name": "Python 3.9.12 ('base')",
   "language": "python",
   "name": "python3"
  },
  "language_info": {
   "codemirror_mode": {
    "name": "ipython",
    "version": 3
   },
   "file_extension": ".py",
   "mimetype": "text/x-python",
   "name": "python",
   "nbconvert_exporter": "python",
   "pygments_lexer": "ipython3",
   "version": "3.9.12"
  },
  "orig_nbformat": 4,
  "vscode": {
   "interpreter": {
    "hash": "84119b4a23c727451d2f5b202898a53a27583c1b582daf411d2362849740e029"
   }
  }
 },
 "nbformat": 4,
 "nbformat_minor": 2
}
