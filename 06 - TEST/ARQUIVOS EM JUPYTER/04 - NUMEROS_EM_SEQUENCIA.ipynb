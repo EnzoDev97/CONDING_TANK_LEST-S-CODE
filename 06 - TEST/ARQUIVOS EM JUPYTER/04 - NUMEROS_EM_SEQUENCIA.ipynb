{
 "cells": [
  {
   "cell_type": "code",
   "execution_count": 1,
   "metadata": {},
   "outputs": [
    {
     "name": "stdout",
     "output_type": "stream",
     "text": [
      "----------------------------------------------------------------------------------------------------\n",
      "\u001b[47m                                        SEQUÊNCIA DE NÚMEROS                                        \u001b[0m\n",
      "----------------------------------------------------------------------------------------------------\n",
      "\n",
      "\n",
      "\n",
      "\n",
      "----------------------------------------------------------------------------------------------------\n",
      "\u001b[44m                              LISTA DA SEQUÊNCIA DE NÚMEROS  DIGITADOS                              \u001b[0m\n",
      "----------------------------------------------------------------------------------------------------\n",
      "\n",
      "\n",
      "[[5], [5], [1], [2], [3], [3], [7], [7], [8], [9]]\n",
      "____________________________________________________________________________________________________\n",
      "\n",
      "\n",
      "\n",
      "\n",
      "----------------------------------------------------------------------------------------------------\n",
      "\u001b[43m                        \u001b[43mLISTA  DE NÚMEROS REPETIDOS DA LISTA PRINCIPAL                         \u001b[0m\n",
      "----------------------------------------------------------------------------------------------------\n",
      "\n",
      "\n",
      "[[5], [3], [7]]\n",
      "____________________________________________________________________________________________________\n"
     ]
    }
   ],
   "source": [
    "# 04 - Faça um script que leia 10 números do usuário e informe se algum número foi inserido em sequência.\n",
    "# Se mais de um número for repetido, informe ao menos um (caso no Exemplo 3).\n",
    "\n",
    "lista= []\n",
    "qtd_numero= 10\n",
    "\n",
    "print('-'*100)\n",
    "print ('\\033[47m{:^100}\\033[0m'.format('SEQUÊNCIA DE NÚMEROS'))\n",
    "print('-'*100)\n",
    "print('\\n')\n",
    "\n",
    "\n",
    "for x in range(qtd_numero):\n",
    "   \n",
    "    numero = int(input(''))\n",
    "    number = [numero]\n",
    "    lista.append(number)\n",
    "\n",
    "print('\\n')\n",
    "print('-'*100)\n",
    "print ('\\033[44m{:^100}\\033[0m'.format('LISTA DA SEQUÊNCIA DE NÚMEROS  DIGITADOS'))\n",
    "print('-'*100)\n",
    "print('\\n')\n",
    "\n",
    "print(lista)\n",
    "print('_'*100)\n",
    "print('\\n')\n",
    "\n",
    "\n",
    "repetidos = []\n",
    "\n",
    "\n",
    "for a in range(len(lista)):\n",
    "    for b in range(len(lista)):\n",
    "        if a != b:\n",
    "            if lista[a] == lista[b] and lista[a] not in repetidos:\n",
    "                repetidos.append(lista[a])\n",
    "\n",
    "print('\\n')\n",
    "print('-'*100)\n",
    "print ('\\033[43m{:^100}\\033[0m'.format('\\033[43mLISTA  DE NÚMEROS REPETIDOS DA LISTA PRINCIPAL'))\n",
    "print('-'*100)\n",
    "print('\\n')\n",
    "\n",
    "print(repetidos)\n",
    "print('_'*100)"
   ]
  }
 ],
 "metadata": {
  "kernelspec": {
   "display_name": "Python 3.9.12 ('base')",
   "language": "python",
   "name": "python3"
  },
  "language_info": {
   "codemirror_mode": {
    "name": "ipython",
    "version": 3
   },
   "file_extension": ".py",
   "mimetype": "text/x-python",
   "name": "python",
   "nbconvert_exporter": "python",
   "pygments_lexer": "ipython3",
   "version": "3.9.12"
  },
  "orig_nbformat": 4,
  "vscode": {
   "interpreter": {
    "hash": "84119b4a23c727451d2f5b202898a53a27583c1b582daf411d2362849740e029"
   }
  }
 },
 "nbformat": 4,
 "nbformat_minor": 2
}
