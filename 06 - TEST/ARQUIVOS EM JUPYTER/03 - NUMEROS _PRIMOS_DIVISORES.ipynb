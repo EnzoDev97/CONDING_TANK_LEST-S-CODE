{
 "cells": [
  {
   "cell_type": "code",
   "execution_count": 2,
   "metadata": {},
   "outputs": [
    {
     "name": "stdout",
     "output_type": "stream",
     "text": [
      "__________________________________________________\n",
      "\n",
      "\n",
      "O NÚMERO NÃO É PRIMO\n",
      "--------------------------------------------------\n",
      "\n",
      "\n",
      "O NÚMERO 671 POSSUI OS SEGUINTES DIVISORES.......\n",
      "==================================================\n",
      "                        1                         \n",
      "                        11                        \n",
      "                        61                        \n",
      "                       671                        \n",
      "==================================================\n"
     ]
    }
   ],
   "source": [
    "#03 - Dado um número fornecido pelo usuário, faça um programa que teste se é número primo e imprima na tela. \n",
    "# Além disso, exiba uma lista de divisores do número testado. Um número primo é divisível somente por 1 e por ele mesmo. Seu programa deve ser funcional para qualquer número até o 100.\n",
    "\n",
    "\n",
    "numero = int(input(\"Digite o numero DE 0 Á 100 : \"))\n",
    "divisor = 2\n",
    "print('_'*50)\n",
    "print('\\n')\n",
    "\n",
    "while divisor < numero:\n",
    "  if numero % divisor == 0:\n",
    "    print('O NÚMERO NÃO É PRIMO')\n",
    "    break\n",
    "  divisor += 1\n",
    "else:\n",
    "  print('O NÚMERO É PRIMO')\n",
    "\n",
    "print('-'*50)\n",
    "print('\\n')\n",
    "\n",
    "print ('O NÚMERO {} POSSUI OS SEGUINTES DIVISORES.......'.format(numero))\n",
    "\n",
    "print('='*50)\n",
    "for  i in range(1, numero + 1):\n",
    "    if numero % i == 0:\n",
    "        print('{:^50}'.format(i))\n",
    "print('='*50)"
   ]
  }
 ],
 "metadata": {
  "kernelspec": {
   "display_name": "Python 3.9.12 ('base')",
   "language": "python",
   "name": "python3"
  },
  "language_info": {
   "codemirror_mode": {
    "name": "ipython",
    "version": 3
   },
   "file_extension": ".py",
   "mimetype": "text/x-python",
   "name": "python",
   "nbconvert_exporter": "python",
   "pygments_lexer": "ipython3",
   "version": "3.9.12"
  },
  "orig_nbformat": 4,
  "vscode": {
   "interpreter": {
    "hash": "84119b4a23c727451d2f5b202898a53a27583c1b582daf411d2362849740e029"
   }
  }
 },
 "nbformat": 4,
 "nbformat_minor": 2
}
