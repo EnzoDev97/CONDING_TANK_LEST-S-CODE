{
 "cells": [
  {
   "cell_type": "code",
   "execution_count": 24,
   "metadata": {},
   "outputs": [
    {
     "name": "stdout",
     "output_type": "stream",
     "text": [
      "SUA IDADE É : 25 ANOS\n",
      "SUA ALTURA É 1.0 CM DE ALTURA\n",
      "\n",
      "\n",
      "SITUAÇÃO DA ENTRADA DOS PARQUES.... \n",
      "\n",
      "CARROSEL : \u001b[41m NEGADA \u001b[0m\n",
      "PISCINA DE BOLINHAS : \u001b[41m NEGADA \u001b[0m\n",
      "MONTANHA-RUSSA : \u001b[42m PERMITIDA \u001b[0m\n"
     ]
    }
   ],
   "source": [
    "import datetime\n",
    "\n",
    "\n",
    "def parque_diversao(ano,altura):\n",
    "    data_nascimento = int(input('INFORME O ANO DO SEU NASCIMENTO: '))\n",
    "    hoje = datetime.date.today()        #print('{:%d/%b/%Y}'.format(hoje))  # fORMATO DO DIA/MES/ANO\n",
    "    convert = str(hoje)       #CONVERTENDO A DATA EM STRING\n",
    "    ano = convert.split('-')   #REMOVENDO O CARACTERE '/'\n",
    "    ano_1 = int(ano[0])      # CONVERTENDO O ANO EM NUMERO\n",
    "    idade= ano_1 - data_nascimento  # CALCULO PARA DESCOBRIR SUA IDADE\n",
    "    # RESOLVENDO O PROBLEMA\n",
    "    \n",
    "    altura = float(input('INFORME SUA ALTURA: '))\n",
    "\n",
    "    print('SUA IDADE É : {} ANOS\\nSUA ALTURA É {} CM DE ALTURA'.format(idade,altura))\n",
    "    \n",
    "    print('\\n')\n",
    "\n",
    "    print('SITUAÇÃO DA ENTRADA DOS PARQUES....','\\n')\n",
    "\n",
    "\n",
    "   #CARROSSEL\n",
    "    if altura > 1 and idade >=3:\n",
    "        print('CARROSEL : \\033[42m PERMITIDA \\033[0m')\n",
    "    else:\n",
    "        print('CARROSEL : \\033[41m NEGADA \\033[0m')\n",
    "\n",
    "    # PISCINA DE BOLINHAS \n",
    "    \n",
    "    if  1 < altura < 1.3 and 4 <= idade <= 9:\n",
    "        print('PISCINA DE BOLINHAS : \\033[42m PERMITIDA \\033[0m')\n",
    "    else:\n",
    "        print('PISCINA DE BOLINHAS : \\033[41m NEGADA \\033[0m')\n",
    "\n",
    "    # MONTANHA-RUSSA\n",
    "    \n",
    "    if  altura >=1:\n",
    "        print('MONTANHA-RUSSA : \\033[42m PERMITIDA \\033[0m')\n",
    "    else:\n",
    "        print('MONTANHA-RUSSA : \\033[41m NEGADA \\033[0m')\n",
    "    \n",
    "\n",
    "parque_diversao('ano', 'altura')"
   ]
  }
 ],
 "metadata": {
  "kernelspec": {
   "display_name": "Python 3.9.12 ('base')",
   "language": "python",
   "name": "python3"
  },
  "language_info": {
   "codemirror_mode": {
    "name": "ipython",
    "version": 3
   },
   "file_extension": ".py",
   "mimetype": "text/x-python",
   "name": "python",
   "nbconvert_exporter": "python",
   "pygments_lexer": "ipython3",
   "version": "3.9.12"
  },
  "orig_nbformat": 4,
  "vscode": {
   "interpreter": {
    "hash": "84119b4a23c727451d2f5b202898a53a27583c1b582daf411d2362849740e029"
   }
  }
 },
 "nbformat": 4,
 "nbformat_minor": 2
}
