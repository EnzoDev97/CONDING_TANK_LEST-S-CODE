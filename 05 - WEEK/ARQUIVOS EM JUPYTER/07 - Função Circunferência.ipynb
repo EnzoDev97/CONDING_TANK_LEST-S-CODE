{
 "cells": [
  {
   "cell_type": "code",
   "execution_count": 9,
   "metadata": {},
   "outputs": [
    {
     "name": "stdout",
     "output_type": "stream",
     "text": [
      "O COMPRIMENTO DA CIRCUNFERÊNCIA É : 185.12 CM\n"
     ]
    }
   ],
   "source": [
    "def raio(r):\n",
    "    c = 23.14*r\n",
    "    print('O COMPRIMENTO DA CIRCUNFERÊNCIA É : {:.2f} CM'.format(c))\n",
    "\n",
    "raio(8)"
   ]
  }
 ],
 "metadata": {
  "kernelspec": {
   "display_name": "Python 3.9.12 ('base')",
   "language": "python",
   "name": "python3"
  },
  "language_info": {
   "codemirror_mode": {
    "name": "ipython",
    "version": 3
   },
   "file_extension": ".py",
   "mimetype": "text/x-python",
   "name": "python",
   "nbconvert_exporter": "python",
   "pygments_lexer": "ipython3",
   "version": "3.9.12"
  },
  "orig_nbformat": 4,
  "vscode": {
   "interpreter": {
    "hash": "e8755eff31258cf3f68aa399e6f759d79082959dfad6f58a9830d0e0b06355a5"
   }
  }
 },
 "nbformat": 4,
 "nbformat_minor": 2
}
