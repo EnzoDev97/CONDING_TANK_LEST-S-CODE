{
 "cells": [
  {
   "cell_type": "code",
   "execution_count": 19,
   "metadata": {},
   "outputs": [
    {
     "name": "stdout",
     "output_type": "stream",
     "text": [
      "1 \n",
      "1 2 \n",
      "1 2 3 \n",
      "1 2 3 4 \n",
      "1 2 3 4 5 \n",
      "1 2 3 4 5 6 \n",
      "1 2 3 4 5 6 7 \n",
      "1 2 3 4 5 6 7 8 \n",
      "1 2 3 4 5 6 7 8 9 \n",
      "1 2 3 4 5 6 7 8 9 10 \n"
     ]
    }
   ],
   "source": [
    "#Faça um programa para imprimir:\n",
    "\n",
    "  #  1\n",
    "  #  1   2\n",
    "  #  1   2   3\n",
    "  #  .....\n",
    "  #  1   2   3   ...  n\n",
    "#para um n informado pelo usuário. Use uma função que receba um valor n inteiro imprima até a n-ésima linha.\n",
    "\n",
    "def sequencia(n):\n",
    "    for linha in range(1, n +1):     # aqui criamos a linha da sequencia 1 depois 1+1 depois 2+1 \n",
    "        for coluna in range(1, linha + 1): # aqui criamos a coluna \n",
    "            print(coluna, end =  ' ')\n",
    "        print('')\n",
    "\n",
    "sequencia(int(input()))"
   ]
  }
 ],
 "metadata": {
  "kernelspec": {
   "display_name": "Python 3.9.12 ('base')",
   "language": "python",
   "name": "python3"
  },
  "language_info": {
   "codemirror_mode": {
    "name": "ipython",
    "version": 3
   },
   "file_extension": ".py",
   "mimetype": "text/x-python",
   "name": "python",
   "nbconvert_exporter": "python",
   "pygments_lexer": "ipython3",
   "version": "3.9.12"
  },
  "orig_nbformat": 4,
  "vscode": {
   "interpreter": {
    "hash": "e8755eff31258cf3f68aa399e6f759d79082959dfad6f58a9830d0e0b06355a5"
   }
  }
 },
 "nbformat": 4,
 "nbformat_minor": 2
}
