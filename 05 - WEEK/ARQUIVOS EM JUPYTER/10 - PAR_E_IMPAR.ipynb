{
 "cells": [
  {
   "cell_type": "code",
   "execution_count": 5,
   "metadata": {},
   "outputs": [
    {
     "name": "stdout",
     "output_type": "stream",
     "text": [
      "O NÚMERO 2 É PAR\n"
     ]
    },
    {
     "data": {
      "text/plain": [
       "False"
      ]
     },
     "execution_count": 5,
     "metadata": {},
     "output_type": "execute_result"
    }
   ],
   "source": [
    "# 10 - Faça uma função que recebe um número e retorna True se ele é par ou False, se ele é ímpar.\n",
    "\n",
    "def par_impa(num):\n",
    "    par = num%2\n",
    "    if par == 0:\n",
    "        print('O NÚMERO {} É PAR'.format(num))\n",
    "    else:\n",
    "        print('O NÚMERO {} É IMPAR'.format(num))\n",
    "\n",
    "par_impa(2)\n",
    "\n",
    "\n",
    "# OU\n",
    "\n",
    "def is_even(n):\n",
    "    return n % 2 == 0\n",
    "\n",
    "is_even(3)"
   ]
  }
 ],
 "metadata": {
  "kernelspec": {
   "display_name": "Python 3.9.12 ('base')",
   "language": "python",
   "name": "python3"
  },
  "language_info": {
   "codemirror_mode": {
    "name": "ipython",
    "version": 3
   },
   "file_extension": ".py",
   "mimetype": "text/x-python",
   "name": "python",
   "nbconvert_exporter": "python",
   "pygments_lexer": "ipython3",
   "version": "3.9.12"
  },
  "orig_nbformat": 4,
  "vscode": {
   "interpreter": {
    "hash": "84119b4a23c727451d2f5b202898a53a27583c1b582daf411d2362849740e029"
   }
  }
 },
 "nbformat": 4,
 "nbformat_minor": 2
}
