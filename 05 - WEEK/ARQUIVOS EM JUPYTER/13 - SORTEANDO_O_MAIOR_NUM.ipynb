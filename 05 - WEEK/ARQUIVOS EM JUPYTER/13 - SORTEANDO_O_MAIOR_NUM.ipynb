{
 "cells": [
  {
   "cell_type": "code",
   "execution_count": 2,
   "metadata": {},
   "outputs": [
    {
     "name": "stdout",
     "output_type": "stream",
     "text": [
      "SORTEANDO 10 NÚMEROS...\n",
      "\n",
      "[41, 66, 75, 8, 45, 98, 65, 19, 91, 12]\n",
      "__________________________________________________ \n",
      "\n",
      "O MAIOR NÚMERO SORTEADO foi 98\n"
     ]
    }
   ],
   "source": [
    "# 13 - Faça uma função que sorteia 10 números aleatórios entre 0 e 100 e retorna o maior entre eles.\n",
    "\n",
    "from random import randint\n",
    "\n",
    "def sorteia(lista):\n",
    "    print('SORTEANDO 10 NÚMEROS...\\n')\n",
    "    for cont in range(0,10):   # ESCOLHENDO A QUANTIDADE DE NÚMEROS QUE DEVE SER SORTEADO\n",
    "        lista.append(randint(1,100))  # INFORMANDO  QUAIS NUMEROS  PODEM SER SORTEADO\n",
    "    print(numeros)\n",
    "    print('_'*50,'\\n')\n",
    "\n",
    "numeros = list()\n",
    "\n",
    "sorteia(numeros)\n",
    "\n",
    "maior =max(numeros)\n",
    "print('O MAIOR NÚMERO SORTEADO foi {}'.format(maior))\n"
   ]
  }
 ],
 "metadata": {
  "kernelspec": {
   "display_name": "Python 3.9.12 ('base')",
   "language": "python",
   "name": "python3"
  },
  "language_info": {
   "codemirror_mode": {
    "name": "ipython",
    "version": 3
   },
   "file_extension": ".py",
   "mimetype": "text/x-python",
   "name": "python",
   "nbconvert_exporter": "python",
   "pygments_lexer": "ipython3",
   "version": "3.9.12"
  },
  "orig_nbformat": 4,
  "vscode": {
   "interpreter": {
    "hash": "e8755eff31258cf3f68aa399e6f759d79082959dfad6f58a9830d0e0b06355a5"
   }
  }
 },
 "nbformat": 4,
 "nbformat_minor": 2
}
