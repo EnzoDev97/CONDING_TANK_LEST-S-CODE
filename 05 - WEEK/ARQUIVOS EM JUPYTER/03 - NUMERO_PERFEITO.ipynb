{
 "cells": [
  {
   "cell_type": "code",
   "execution_count": 2,
   "metadata": {},
   "outputs": [
    {
     "name": "stdout",
     "output_type": "stream",
     "text": [
      "Determina se um número n é perfeito\n",
      "\n",
      "O numero 6 é perfeito\n"
     ]
    }
   ],
   "source": [
    "# 03 - Faça uma função que verifique se um valor é perfeito ou não. Um valor é dito perfeito quando ele é igual a soma dos seus divisores excetuando ele próprio. \n",
    "#(Ex: 6 é perfeito, 6 = 1 + 2 + 3, que são seus divisores). A função deve retornar um valor booleano.\n",
    "\n",
    "def main():\n",
    "    print(\"Determina se um número n é perfeito\\n\")\n",
    "\n",
    "    # leia o valor de n\n",
    "    n = int(input(\"Digite o valor de n: \"))\n",
    "\n",
    "    soma = 0\n",
    "  \n",
    "    for divisor in range(1,n):\n",
    "        if n % divisor == 0:\n",
    "            soma += divisor # soma = soma + divisor\n",
    "\n",
    "    if n == soma:\n",
    "        print(\"O numero %d é perfeito\" %(n))\n",
    "    else: \n",
    "        print(\"O numero %d nao é perfeito\\n\" %(n))\n",
    "  \n",
    "# . . . . . . . . . . . . . . . . . . . . . . . . . . . . . . . .\n",
    "\n",
    "main()"
   ]
  }
 ],
 "metadata": {
  "kernelspec": {
   "display_name": "Python 3.9.12 ('base')",
   "language": "python",
   "name": "python3"
  },
  "language_info": {
   "codemirror_mode": {
    "name": "ipython",
    "version": 3
   },
   "file_extension": ".py",
   "mimetype": "text/x-python",
   "name": "python",
   "nbconvert_exporter": "python",
   "pygments_lexer": "ipython3",
   "version": "3.9.12"
  },
  "orig_nbformat": 4,
  "vscode": {
   "interpreter": {
    "hash": "84119b4a23c727451d2f5b202898a53a27583c1b582daf411d2362849740e029"
   }
  }
 },
 "nbformat": 4,
 "nbformat_minor": 2
}
