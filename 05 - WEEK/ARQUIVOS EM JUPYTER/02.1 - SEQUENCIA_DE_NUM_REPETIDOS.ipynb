{
 "cells": [
  {
   "cell_type": "code",
   "execution_count": 9,
   "metadata": {},
   "outputs": [
    {
     "name": "stdout",
     "output_type": "stream",
     "text": [
      "1 \n",
      "2 2 \n",
      "3 3 3 \n",
      "4 4 4 4 \n",
      "5 5 5 5 5 \n",
      "6 6 6 6 6 6 \n",
      "7 7 7 7 7 7 7 \n",
      "8 8 8 8 8 8 8 8 \n",
      "9 9 9 9 9 9 9 9 9 \n",
      "10 10 10 10 10 10 10 10 10 10 \n",
      "11 11 11 11 11 11 11 11 11 11 11 \n",
      "12 12 12 12 12 12 12 12 12 12 12 12 \n",
      "13 13 13 13 13 13 13 13 13 13 13 13 13 \n",
      "14 14 14 14 14 14 14 14 14 14 14 14 14 14 \n",
      "15 15 15 15 15 15 15 15 15 15 15 15 15 15 15 \n",
      "16 16 16 16 16 16 16 16 16 16 16 16 16 16 16 16 \n",
      "17 17 17 17 17 17 17 17 17 17 17 17 17 17 17 17 17 \n",
      "18 18 18 18 18 18 18 18 18 18 18 18 18 18 18 18 18 18 \n",
      "19 19 19 19 19 19 19 19 19 19 19 19 19 19 19 19 19 19 19 \n",
      "20 20 20 20 20 20 20 20 20 20 20 20 20 20 20 20 20 20 20 20 \n"
     ]
    }
   ],
   "source": [
    "def enes(n):\n",
    "    for c in range(1, n + 1):\n",
    "        cont = 1\n",
    "        while True:\n",
    "            print(c, end=' ')\n",
    "            if cont == c:\n",
    "                break\n",
    "            cont += 1\n",
    "        print()\n",
    "        \n",
    "        \n",
    "n = int(input('Digite um número: '))\n",
    "enes(n)"
   ]
  }
 ],
 "metadata": {
  "kernelspec": {
   "display_name": "Python 3.9.12 ('base')",
   "language": "python",
   "name": "python3"
  },
  "language_info": {
   "codemirror_mode": {
    "name": "ipython",
    "version": 3
   },
   "file_extension": ".py",
   "mimetype": "text/x-python",
   "name": "python",
   "nbconvert_exporter": "python",
   "pygments_lexer": "ipython3",
   "version": "3.9.12"
  },
  "orig_nbformat": 4,
  "vscode": {
   "interpreter": {
    "hash": "e8755eff31258cf3f68aa399e6f759d79082959dfad6f58a9830d0e0b06355a5"
   }
  }
 },
 "nbformat": 4,
 "nbformat_minor": 2
}
