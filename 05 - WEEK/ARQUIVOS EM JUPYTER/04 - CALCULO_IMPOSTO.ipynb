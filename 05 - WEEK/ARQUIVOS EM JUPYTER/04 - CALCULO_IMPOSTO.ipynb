{
 "cells": [
  {
   "cell_type": "code",
   "execution_count": 14,
   "metadata": {},
   "outputs": [
    {
     "name": "stdout",
     "output_type": "stream",
     "text": [
      "O VALOR DO PRODUTO É R$ 5000.00 REAIS A TAXA DE IMPOSTO É DE 50.00 % TAXA DE IMPOSTO É R$ 2500.00 REAIS\n",
      " \n",
      "O VALOR DO PRODUTO COM O IMPOSTO FICA R$ 7500.00 REAIS  \n"
     ]
    }
   ],
   "source": [
    "# 04 - Faça um programa com duas funções: uma chamada \"calculaImposto\". A função possui dois parâmetros formais: \n",
    "# taxaImposto, que é a quantia de imposto sobre vendas expressa em porcentagem e custo, que é o custo de um item antes do imposto e irá retornar a taxa de imposto. \n",
    "# E uma função “alteraValor” que recebe o valor de custo e a taxa de imposto para incluir o imposto sobre vendas e retorna esse novo valor.\n",
    "\n",
    "# FUNÇÃO ONDE SELECIONA A OPERAÇÃO MAT E REALIZA O CALCULO\n",
    "\n",
    "#def calculo_imposto():\n",
    " #   taxa = float(input('INFORME O VALOR DA TAXA: '))\n",
    "  #  custo = float(input('INFORME O VALOR DO CUSTO: '))\n",
    "  #  imposto = ((taxa/100)*custo)\n",
    "\n",
    "  #  print('O VALOR DO PRODUTO É R$ {:.2f} REAIS A TAXA DE IMPOSTO QUE É  DE {:.2f} % TAXA DE IMPOSTO É R$ {:.2f} REAIS\\n '.format(custo, taxa, imposto))\n",
    "\n",
    "   # calculo = imposto + custo\n",
    "\n",
    "   # print('O VALOR DO PRODUTO COM O IMPOSTO FICA R$ {:.2f} REAIS  '.format(calculo))\n",
    "\n",
    "    \n",
    "\n",
    "\n",
    "def altera_valor():\n",
    "    custo =  float(input('INFORME O VALOR DO CUSTO: '))\n",
    "    return custo\n",
    "\n",
    "def calculo_imposto():\n",
    "    taxa = float(input('INFORME O VALOR DA TAXA: '))\n",
    "    custo = altera_valor()\n",
    "    imposto = ((taxa/100)*custo)\n",
    "    calculo = imposto + custo\n",
    "    print('O VALOR DO PRODUTO É R$ {:.2f} REAIS A TAXA DE IMPOSTO É DE {:.2f} % TAXA DE IMPOSTO É R$ {:.2f} REAIS\\n '.format(custo, taxa, imposto))\n",
    "    print('O VALOR DO PRODUTO COM O IMPOSTO FICA R$ {:.2f} REAIS  '.format(calculo))\n",
    "\n",
    "calculo_imposto()"
   ]
  }
 ],
 "metadata": {
  "kernelspec": {
   "display_name": "Python 3.9.12 ('base')",
   "language": "python",
   "name": "python3"
  },
  "language_info": {
   "codemirror_mode": {
    "name": "ipython",
    "version": 3
   },
   "file_extension": ".py",
   "mimetype": "text/x-python",
   "name": "python",
   "nbconvert_exporter": "python",
   "pygments_lexer": "ipython3",
   "version": "3.9.12"
  },
  "orig_nbformat": 4,
  "vscode": {
   "interpreter": {
    "hash": "84119b4a23c727451d2f5b202898a53a27583c1b582daf411d2362849740e029"
   }
  }
 },
 "nbformat": 4,
 "nbformat_minor": 2
}
