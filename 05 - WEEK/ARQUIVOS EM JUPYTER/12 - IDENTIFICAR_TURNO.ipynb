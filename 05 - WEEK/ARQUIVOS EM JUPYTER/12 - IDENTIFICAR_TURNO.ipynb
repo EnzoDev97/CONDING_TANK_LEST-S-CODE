{
 "cells": [
  {
   "cell_type": "code",
   "execution_count": 9,
   "metadata": {},
   "outputs": [
    {
     "name": "stdout",
     "output_type": "stream",
     "text": [
      "OLÁ, BOM DIA ! HOJE É 11/08/22 E SÃO 10:09:10 DA MANHÃ\n"
     ]
    }
   ],
   "source": [
    "# 12 - Faça uma função que recebe um nome e um horário e imprime “Bom dia, [nome]”, caso seja antes de 12h, “Boa Tarde, [nome]”, \n",
    "# caso seja entre 12h e 18h e “Boa noite, [nome]” se for após às 18h\n",
    "\n",
    "import datetime\n",
    "\n",
    "H = datetime.datetime.now()\n",
    "data = H.strftime('%x')\n",
    "horario = H.strftime('%X')\n",
    "hora = H.strftime('%H')\n",
    "turno = H.strftime('%p')\n",
    "\n",
    "conversao = int(H.strftime('%H'))\n",
    "\n",
    "if turno == 'AM' and  6<= conversao <=12:\n",
    "    print('OLÁ, BOM DIA ! HOJE É {} E SÃO {} DA MANHÃ'.format(data,horario))\n",
    "elif turno == 'PM' and  12 <=  conversao <= 18:\n",
    "    print('OLÁ, BOM TARDE ! HOJE É {} E SÃO {} DA TARDE'.format(data,horario))\n",
    "elif turno == 'PM' and  18 <= conversao <= 23:\n",
    "    print('OLÁ, BOM NOITE ! HOJE É {} E SÃO {} DA NOITE'.format(data,horario))\n",
    "else:\n",
    "    print('OLÁ, BOM MADRUGADA ! HOJE É {} E SÃO {} DA MADRUGADA'.format(data,horario))\n",
    "    "
   ]
  }
 ],
 "metadata": {
  "kernelspec": {
   "display_name": "Python 3.9.12 ('base')",
   "language": "python",
   "name": "python3"
  },
  "language_info": {
   "codemirror_mode": {
    "name": "ipython",
    "version": 3
   },
   "file_extension": ".py",
   "mimetype": "text/x-python",
   "name": "python",
   "nbconvert_exporter": "python",
   "pygments_lexer": "ipython3",
   "version": "3.9.12"
  },
  "orig_nbformat": 4,
  "vscode": {
   "interpreter": {
    "hash": "84119b4a23c727451d2f5b202898a53a27583c1b582daf411d2362849740e029"
   }
  }
 },
 "nbformat": 4,
 "nbformat_minor": 2
}
