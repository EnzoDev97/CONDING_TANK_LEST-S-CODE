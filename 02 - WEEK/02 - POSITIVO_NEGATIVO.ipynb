{
 "cells": [
  {
   "cell_type": "code",
   "execution_count": 1,
   "metadata": {},
   "outputs": [
    {
     "name": "stdout",
     "output_type": "stream",
     "text": [
      "--------------------------------------------------\n",
      "\n",
      "\n",
      "O número 20 é positvo\n"
     ]
    }
   ],
   "source": [
    "num =int(input('DIGITE SUA NÚMERO: ')) \n",
    "print('-'*50) \n",
    "print('\\n')\n",
    "\n",
    "if num >=0: \n",
    "    print('O número {} é positvo'.format(num)) \n",
    "else: \n",
    "    print('O número {} é negativo'.format(num))"
   ]
  }
 ],
 "metadata": {
  "kernelspec": {
   "display_name": "Python 3.9.12 ('base')",
   "language": "python",
   "name": "python3"
  },
  "language_info": {
   "name": "python",
   "version": "3.9.12"
  },
  "orig_nbformat": 4,
  "vscode": {
   "interpreter": {
    "hash": "e8755eff31258cf3f68aa399e6f759d79082959dfad6f58a9830d0e0b06355a5"
   }
  }
 },
 "nbformat": 4,
 "nbformat_minor": 2
}
